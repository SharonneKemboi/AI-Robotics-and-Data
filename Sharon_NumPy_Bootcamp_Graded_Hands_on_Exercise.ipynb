{
  "nbformat": 4,
  "nbformat_minor": 0,
  "metadata": {
    "colab": {
      "provenance": [],
      "include_colab_link": true
    },
    "kernelspec": {
      "name": "python3",
      "display_name": "Python 3"
    },
    "language_info": {
      "name": "python"
    }
  },
  "cells": [
    {
      "cell_type": "markdown",
      "metadata": {
        "id": "view-in-github",
        "colab_type": "text"
      },
      "source": [
        "<a href=\"https://colab.research.google.com/github/SharonneKemboi/AI-Robotics-and-Data/blob/master/Sharon_NumPy_Bootcamp_Graded_Hands_on_Exercise.ipynb\" target=\"_parent\"><img src=\"https://colab.research.google.com/assets/colab-badge.svg\" alt=\"Open In Colab\"/></a>"
      ]
    },
    {
      "cell_type": "markdown",
      "metadata": {
        "id": "OZpduK2BJvzZ"
      },
      "source": [
        "### **Overview**\n",
        "\n",
        "Dear Learner, \n",
        "\n",
        "Congratulations, you have studied NumPy all the way through the end of this bootcamp!!! This is the final graded hands-on exercise where you will be accomplishing the below mentioned task.\n",
        "\n",
        "**Author:** Avantika Podar"
      ]
    },
    {
      "cell_type": "markdown",
      "metadata": {
        "id": "UC6lZAsJLiFg"
      },
      "source": [
        "###Task 1:   \n",
        "\n",
        "Construct a random 3x28x28 NumPy array called *original* to represent an image and then convert this into into a 1x(3x28x28) array called *flat*. This converts it into a single row of pixels. Next, convert this to a 1D array (flatten the array using flat.flatten()). Print shape of all arrays. You may use the random function to generate the array.\n",
        "\n"
      ]
    },
    {
      "cell_type": "code",
      "metadata": {
        "id": "Qno3FG8M9RXZ"
      },
      "source": [
        "#Import Numpy\n",
        "import numpy as np  \n",
        "\n",
        "#random numpy array that rep an image\n",
        "original = np.random.random((3,28,28))\n",
        "\n",
        "#array flat that converts to 1 x(3x28x28) use reshape\n",
        "flat = original.reshape(1,3*28*28)\n",
        "\n",
        "#covert to 1D array and use flat.flatten method to flatten array\n",
        "one_arr = flat.flatten()\n",
        "\n",
        "#Print shape of all arrays\n",
        "print (original.shape) \n",
        "print (flat.shape)\n",
        "print (one_arr.shape)"
      ],
      "execution_count": null,
      "outputs": []
    },
    {
      "cell_type": "markdown",
      "metadata": {
        "id": "eIcDegymM1tR"
      },
      "source": [
        "### Task 2: Print out the following: \n",
        "  * dimension of the arrays.\n",
        "  * memory address of the arrays (pointer).\n",
        "  * shape of the arrays.\n",
        "  * data types of the arrays. \n",
        "\n",
        "\n"
      ]
    },
    {
      "cell_type": "code",
      "metadata": {
        "id": "H9MUhbsn9Ych"
      },
      "source": [
        "#Print Dimension of the arrays\n",
        "print (original.ndim)\n",
        "print (flat.ndim)\n",
        "print (one_arr.ndim)\n",
        "\n",
        "#Print Memory address of the arrays\n",
        "print (id(original))\n",
        "print (id(flat))\n",
        "print (id(one_arr))\n",
        "\n",
        "#Print shape of the arrays\n",
        "print (original.shape)\n",
        "print (flat.shape)\n",
        "print (one_arr.shape)\n",
        "\n",
        "#Print data types of the arrays\n",
        "print (original.dtype)\n",
        "print (flat.dtype)\n",
        "print (one_arr.dtype)"
      ],
      "execution_count": null,
      "outputs": []
    },
    {
      "cell_type": "markdown",
      "metadata": {
        "id": "mZYl9CjBN9bg"
      },
      "source": [
        "### Task 3: \n",
        "Construct a new array which is a negative of the *original* array, i.e, all elements are negative of those in the *original* array. Print the new array. Add the original and new arrays. Print the result. "
      ]
    },
    {
      "cell_type": "code",
      "metadata": {
        "id": "0VCQBW-F933Z"
      },
      "source": [
        "#arraywhich is negative of original \n",
        "negative_original = np.negative(original)\n",
        "\n",
        "#Print the new array\n",
        "print(negative_original)\n",
        "\n",
        "#Add the original and new arrays\n",
        "sum_of_arrays = original + negative_original\n",
        "\n",
        "# Print the result\n",
        "print(sum_of_arrays)"
      ],
      "execution_count": null,
      "outputs": []
    },
    {
      "cell_type": "markdown",
      "metadata": {
        "id": "4UKa56EzQXaU"
      },
      "source": [
        "###Task 4\n",
        "\n",
        "A 3x28x28 basically means 28x28 matrices repeated three times. How would you access the first 10 elements of the 2nd row of the second 28x28 matrix? Consider the original array for this. Print the elements."
      ]
    },
    {
      "cell_type": "code",
      "metadata": {
        "id": "bc0stgsY93Tn"
      },
      "source": [
        "#Accesing the first 10 elements of the 2nd rowof the second matrix\n",
        "second_rmatrix = original[1][1][0:9]\n",
        "# Print the result\n",
        "print(second_rmatrix)\n"
      ],
      "execution_count": null,
      "outputs": []
    },
    {
      "cell_type": "markdown",
      "metadata": {
        "id": "8USrPA7NdRXQ"
      },
      "source": [
        "### Task 5 (Optional)\n",
        "A 3x28x28 image means 3 channels of Red, Green, or Blue (Popularly known as RGB image). Each color channel has a height and width, which is 28X28 in this case. The entire picture can represented through this method. Print the shape of the Blue pixel matrix and its first 3 rows."
      ]
    },
    {
      "cell_type": "code",
      "metadata": {
        "id": "bQCRmVPz92r7"
      },
      "source": [
        "a = original[2][0:3]\n",
        "\n",
        "# Print the shape of the Blue pixel matrix\n",
        "print(a.shape) \n",
        "#Print the first 3 rows.\n",
        "print(a[:])\n"
      ],
      "execution_count": null,
      "outputs": []
    },
    {
      "cell_type": "markdown",
      "metadata": {
        "id": "Nb9AZUweD-3m"
      },
      "source": [
        "### Task 6 \n",
        "Create a 1 dimensional numpy array of the first 50 even numbers. Convert this to a 10x5 numpy array and print its transpose. "
      ]
    },
    {
      "cell_type": "code",
      "metadata": {
        "id": "JJj-N-Kt92Nz"
      },
      "source": [
        "#1 dimensional numpy array of the first 50 even numbers - Use arange method\n",
        "first_fifty_even = np.arange(0, ((2 * 50) - 1), 2)\n",
        "\n",
        "#Converting to a 10x5 numpy array using reshape method\n",
        "reshape_fifty = first_fifty_even.reshape(10, 5)\n",
        "\n",
        "# print its transpose\n",
        "print(reshape_fifty.transpose())"
      ],
      "execution_count": null,
      "outputs": []
    },
    {
      "cell_type": "markdown",
      "metadata": {
        "id": "ITBNUk5dHu0f"
      },
      "source": [
        "###Task 7 \n",
        "Consider the 10x5 array created in Task 6. Find the mean of each row and column. You may use in built functions or write your own code."
      ]
    },
    {
      "cell_type": "code",
      "source": [
        "  #Mean of column \n",
        "mean_of_column = reshape_fifty.mean(axis=0)\n",
        "print (mean_of_column)     \n"
      ],
      "metadata": {
        "id": "qYrg2g-jVduw"
      },
      "execution_count": null,
      "outputs": []
    },
    {
      "cell_type": "code",
      "metadata": {
        "id": "9bFi6vVf91oY"
      },
      "source": [
        "  #Mean of row\n",
        "mean_of_row = reshape_fifty.mean(axis=1)\n",
        "print (mean_of_row)      "
      ],
      "execution_count": null,
      "outputs": []
    },
    {
      "cell_type": "markdown",
      "metadata": {
        "id": "WEHBWo7AGXKK"
      },
      "source": [
        "### Task 8\n",
        "Can we create a 3x3 array of the first 50 even numbers? Why or why not? What are other values of m and n for which mxn dimension is allowed for 50 elements?\n",
        "\n",
        "No, we cannot create a 3x3 array of the first 50 even numbers.\n",
        "\n",
        "Because, there is no way the dimensions 3x3 can accommodate exactly 50 elements, since 50 is not divisible by 3\n",
        "\n",
        "The array shape or its rows and columns should multiply and give the answer equal to the number of required elements. \n",
        "For 50 elements, the allowed mxn dimensions are 2x25,5x10,10x5,25x2. "
      ]
    },
    {
      "cell_type": "markdown",
      "metadata": {
        "id": "nGirNkBS90-J"
      },
      "source": []
    }
  ]
}